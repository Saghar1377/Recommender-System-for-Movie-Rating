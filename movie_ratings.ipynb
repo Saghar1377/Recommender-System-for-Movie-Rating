{
 "cells": [
  {
   "cell_type": "code",
   "execution_count": null,
   "id": "5220b6e4",
   "metadata": {},
   "outputs": [],
   "source": [
    "import numpy as np\n",
    "import pandas as pd"
   ]
  },
  {
   "cell_type": "code",
   "execution_count": null,
   "id": "51776448",
   "metadata": {},
   "outputs": [],
   "source": [
    "ratings= pd.read_csv('ratings.csv')\n",
    "movies= pd.read_csv('movies.csv')"
   ]
  },
  {
   "cell_type": "markdown",
   "id": "1ccca633",
   "metadata": {},
   "source": [
    "# Question 1"
   ]
  },
  {
   "cell_type": "markdown",
   "id": "d999b8c4",
   "metadata": {},
   "source": [
    "Write a MapReduce program that takes the input dataset and outputs the number of unique users who visited each page. Your program should output tuples of the form (movieId, unique_users)."
   ]
  },
  {
   "cell_type": "code",
   "execution_count": null,
   "id": "5fcc25f4",
   "metadata": {
    "scrolled": false
   },
   "outputs": [],
   "source": [
    "ratings"
   ]
  },
  {
   "cell_type": "markdown",
   "id": "4afdad04",
   "metadata": {},
   "source": [
    "Splitting the table into 10 tables"
   ]
  },
  {
   "cell_type": "code",
   "execution_count": null,
   "id": "3992dc8e",
   "metadata": {},
   "outputs": [],
   "source": [
    "total_rows = len(ratings)\n",
    "\n",
    "rows_per_table = total_rows // 10\n",
    "\n",
    "tables = []\n",
    "start_row = 0\n",
    "\n",
    "for i in range(10):\n",
    "    end_row = start_row + rows_per_table\n",
    "    table = ratings[start_row:end_row]\n",
    "    tables.append(table)\n",
    "    start_row = end_row\n",
    "\n",
    "for i, table in enumerate(tables):\n",
    "    print(f\"Table {i+1}:\")\n",
    "    print(table)\n",
    "    print()"
   ]
  },
  {
   "cell_type": "markdown",
   "id": "6ab065f6",
   "metadata": {},
   "source": [
    "Creating a list of (userId,movieId)"
   ]
  },
  {
   "cell_type": "code",
   "execution_count": null,
   "id": "6def9d19",
   "metadata": {},
   "outputs": [],
   "source": [
    "my_list=[]\n",
    "for table in tables:\n",
    "    result=[]\n",
    "    result = list(zip(table['userId'], table['movieId']))\n",
    "    my_list.append(result)\n",
    "\n",
    "for i, result in enumerate(my_list):\n",
    "    print(f\"Table {i+1}:\")\n",
    "    print(result)"
   ]
  },
  {
   "cell_type": "markdown",
   "id": "76949bc3",
   "metadata": {},
   "source": [
    "Giving 1 to each ( userId, movieId)"
   ]
  },
  {
   "cell_type": "code",
   "execution_count": null,
   "id": "f0bb72cf",
   "metadata": {},
   "outputs": [],
   "source": [
    "dictionaries = []\n",
    "\n",
    "for result in my_list:\n",
    "    my_dict = {}\n",
    "    for key in result:\n",
    "        my_dict[key] = [1]\n",
    "    dictionaries.append(my_dict)\n",
    "\n",
    "# Print the dictionaries\n",
    "for i, my_dict in enumerate(dictionaries):\n",
    "    print(f\"Table {i+1}:\")\n",
    "    for key, values in my_dict.items():\n",
    "        print(key, values)\n",
    "    print()\n"
   ]
  },
  {
   "cell_type": "markdown",
   "id": "2d78fa71",
   "metadata": {},
   "source": [
    "Here, we can see in each table, how many uniqueIds have watched each movie."
   ]
  },
  {
   "cell_type": "code",
   "execution_count": null,
   "id": "9c1513ff",
   "metadata": {},
   "outputs": [],
   "source": [
    "lastlist = []\n",
    "for dictionary in dictionaries:\n",
    "    firstlist = {}\n",
    "    for key in dictionary.keys():\n",
    "        new_key = key[1]\n",
    "        if new_key in firstlist:\n",
    "            firstlist[new_key].append(1)\n",
    "        else:\n",
    "            firstlist[new_key] = [1]\n",
    "    lastlist.append(firstlist)\n",
    "    \n",
    "for i, firstlist in enumerate(lastlist):\n",
    "    print(f\"Table {i+1}:\")\n",
    "    for key, values in firstlist.items():\n",
    "        print(key, values)\n",
    "    print()"
   ]
  },
  {
   "cell_type": "code",
   "execution_count": null,
   "id": "e48c206f",
   "metadata": {},
   "outputs": [],
   "source": [
    "lastlist"
   ]
  },
  {
   "cell_type": "markdown",
   "id": "c1fb6eb3",
   "metadata": {},
   "source": [
    "Now, we collect all the uniqueIds and take them out of the tables."
   ]
  },
  {
   "cell_type": "code",
   "execution_count": null,
   "id": "42088830",
   "metadata": {},
   "outputs": [],
   "source": [
    "def collect_values(dictionaries):\n",
    "    common_values = {}\n",
    "    \n",
    "    for dictionary in dictionaries:\n",
    "        for key in dictionary:\n",
    "            if key in common_values:\n",
    "                common_values[key].append(dictionary[key])\n",
    "            else:\n",
    "                common_values[key] = [dictionary[key]]\n",
    "    \n",
    "    return common_values\n",
    "\n",
    "\n",
    "collect= collect_values(lastlist)"
   ]
  },
  {
   "cell_type": "code",
   "execution_count": null,
   "id": "4f3c8da3",
   "metadata": {},
   "outputs": [],
   "source": [
    "collect"
   ]
  },
  {
   "cell_type": "markdown",
   "id": "83592cad",
   "metadata": {},
   "source": [
    "Reducing"
   ]
  },
  {
   "cell_type": "code",
   "execution_count": null,
   "id": "ad2ea236",
   "metadata": {},
   "outputs": [],
   "source": [
    "def count_values(A):\n",
    "    count_dict = {}\n",
    "    for key, values in A.items():\n",
    "        count = 0\n",
    "        for sublist in values:\n",
    "            count += sublist.count(1)\n",
    "        count_dict[key] = count\n",
    "    return count_dict\n",
    "\n",
    "x = count_values(collect)\n",
    "print(x)\n"
   ]
  },
  {
   "cell_type": "markdown",
   "id": "0048bbaa",
   "metadata": {},
   "source": [
    "Creat a tuple of them:"
   ]
  },
  {
   "cell_type": "code",
   "execution_count": null,
   "id": "08559ccf",
   "metadata": {},
   "outputs": [],
   "source": [
    "mytuple = tuple(x.items())\n",
    "sorted_tuple = sorted(mytuple, key=lambda x: x[1], reverse=True)\n",
    "sorted_tuple"
   ]
  },
  {
   "cell_type": "code",
   "execution_count": null,
   "id": "176a8dcc",
   "metadata": {},
   "outputs": [],
   "source": []
  },
  {
   "cell_type": "markdown",
   "id": "e42d63ed",
   "metadata": {},
   "source": [
    "# Question 2"
   ]
  },
  {
   "cell_type": "markdown",
   "id": "9f3d9e75",
   "metadata": {},
   "source": [
    "Write a MapReduce program that takes the input dataset and outputs the top-rated movies. Your program should output tuples of the form (movie_id, average_rating), sorted in descending order by average_rating."
   ]
  },
  {
   "cell_type": "code",
   "execution_count": null,
   "id": "ef9fe78d",
   "metadata": {},
   "outputs": [],
   "source": [
    "ratings"
   ]
  },
  {
   "cell_type": "code",
   "execution_count": null,
   "id": "43757a37",
   "metadata": {},
   "outputs": [],
   "source": [
    "ratings.info()"
   ]
  },
  {
   "cell_type": "markdown",
   "id": "7218cf4b",
   "metadata": {},
   "source": [
    "Splitting the data into 10 new tables"
   ]
  },
  {
   "cell_type": "code",
   "execution_count": null,
   "id": "e7c020fa",
   "metadata": {
    "scrolled": true
   },
   "outputs": [],
   "source": [
    "total_rows = len(ratings)\n",
    "\n",
    "rows_per_table = total_rows // 10\n",
    "\n",
    "tables = []\n",
    "start_row = 0\n",
    "\n",
    "for i in range(10):\n",
    "    end_row = start_row + rows_per_table\n",
    "    table = ratings[start_row:end_row]\n",
    "    tables.append(table)\n",
    "    start_row = end_row\n",
    "#I stored my new tables in \"tables\".\n",
    "\n",
    "#showing the tables:\n",
    "for i, table in enumerate(tables):\n",
    "    print(f\"Table {i+1}:\")\n",
    "    print(table)\n",
    "    print()\n"
   ]
  },
  {
   "cell_type": "markdown",
   "id": "a87df287",
   "metadata": {},
   "source": [
    "Because of the fact that keys are unique in dictionaries, I gave a number to each of them to make some differences between same keys. result: ( number, movieId, rating)"
   ]
  },
  {
   "cell_type": "code",
   "execution_count": null,
   "id": "3964c68c",
   "metadata": {},
   "outputs": [],
   "source": [
    "my_list=[]\n",
    "for table in tables:\n",
    "    result=[]\n",
    "    numbers = list(range(1, len(table['userId'])))\n",
    "    result = list(zip(numbers,table['movieId'], table['rating']))\n",
    "    my_list.append(result)\n",
    "    \n",
    "for i, result in enumerate(my_list):\n",
    "    print(f\"Table {i+1}:\")\n",
    "    print(result)"
   ]
  },
  {
   "cell_type": "markdown",
   "id": "099055f4",
   "metadata": {},
   "source": [
    "for each rate, I gave 1 as the value."
   ]
  },
  {
   "cell_type": "code",
   "execution_count": null,
   "id": "97e4f70f",
   "metadata": {},
   "outputs": [],
   "source": [
    "dictionaries = []\n",
    "\n",
    "for result in my_list:\n",
    "    my_dict = {}\n",
    "    for key in result:\n",
    "        my_dict[key] = [1]\n",
    "    dictionaries.append(my_dict)\n",
    "\n",
    "# Print the dictionaries\n",
    "for i, my_dict in enumerate(dictionaries):\n",
    "    print(f\"Table {i+1}:\")\n",
    "    for key, values in my_dict.items():\n",
    "        print(key, values)\n",
    "    print()\n"
   ]
  },
  {
   "cell_type": "code",
   "execution_count": null,
   "id": "68a95380",
   "metadata": {
    "scrolled": true
   },
   "outputs": [],
   "source": [
    "dictionaries"
   ]
  },
  {
   "cell_type": "markdown",
   "id": "20b500e4",
   "metadata": {},
   "source": [
    "Collecting values in each table with the same key"
   ]
  },
  {
   "cell_type": "code",
   "execution_count": null,
   "id": "ee39c48e",
   "metadata": {},
   "outputs": [],
   "source": [
    "lastlist = []\n",
    "for dictionary in dictionaries:\n",
    "    firstlist = {}\n",
    "    for key in dictionary.keys():\n",
    "        new_key = key[1:3]\n",
    "        if new_key in firstlist:\n",
    "            firstlist[new_key].append(1)\n",
    "        else:\n",
    "            firstlist[new_key] = [1]\n",
    "    lastlist.append(firstlist)\n",
    "    \n",
    "for i, firstlist in enumerate(lastlist):\n",
    "    print(f\"Table {i+1}:\")\n",
    "    for key, values in firstlist.items():\n",
    "        print(key, values)\n",
    "    print()"
   ]
  },
  {
   "cell_type": "code",
   "execution_count": null,
   "id": "4a099443",
   "metadata": {},
   "outputs": [],
   "source": [
    "lastlist"
   ]
  },
  {
   "cell_type": "markdown",
   "id": "8b786877",
   "metadata": {},
   "source": [
    "Collecting values with the same keys through all tables"
   ]
  },
  {
   "cell_type": "code",
   "execution_count": null,
   "id": "32497cfe",
   "metadata": {},
   "outputs": [],
   "source": [
    "\n",
    "collected=collect_values(lastlist)\n",
    "collected"
   ]
  },
  {
   "cell_type": "markdown",
   "id": "10f99051",
   "metadata": {},
   "source": [
    "Reducing"
   ]
  },
  {
   "cell_type": "code",
   "execution_count": null,
   "id": "a8efbc20",
   "metadata": {},
   "outputs": [],
   "source": [
    "y = count_values(collected)\n",
    "print(y)"
   ]
  },
  {
   "cell_type": "markdown",
   "id": "5e0d1072",
   "metadata": {},
   "source": [
    "let's calculate the average for each movieId:"
   ]
  },
  {
   "cell_type": "code",
   "execution_count": null,
   "id": "206bc6fa",
   "metadata": {},
   "outputs": [],
   "source": [
    "def numofrates(mydict):\n",
    "    new_dict = {}\n",
    "    for key, value in mydict.items():\n",
    "        movieid, rate = key\n",
    "        num = value\n",
    "        score= rate*num\n",
    "        if movieid in new_dict:\n",
    "            new_dict[movieid].append(score)\n",
    "        else:\n",
    "            new_dict[movieid] = [score]\n",
    "\n",
    "    return new_dict\n",
    "myoutput = numofrates(y)\n",
    "print(myoutput)"
   ]
  },
  {
   "cell_type": "code",
   "execution_count": null,
   "id": "4dafbf70",
   "metadata": {},
   "outputs": [],
   "source": [
    "averages = {key: sum(values) / len(values) for key, values in myoutput.items()}\n",
    "averages"
   ]
  },
  {
   "cell_type": "markdown",
   "id": "a873ffed",
   "metadata": {},
   "source": [
    "The answer in next level will be ready:)"
   ]
  },
  {
   "cell_type": "code",
   "execution_count": null,
   "id": "085b35e7",
   "metadata": {},
   "outputs": [],
   "source": [
    "sorted_dict = {key: value for key, value in sorted(averages.items(), key=lambda item: item[1], reverse=True)}\n",
    "my_tuple = tuple(sorted_dict.items())\n",
    "print(my_tuple)\n"
   ]
  },
  {
   "cell_type": "markdown",
   "id": "2fbca8fc",
   "metadata": {},
   "source": [
    "# Question 3"
   ]
  },
  {
   "cell_type": "markdown",
   "id": "66cfdb12",
   "metadata": {},
   "source": [
    "You have to find the movies that are similar to a given movie, based on the MinHash algorithm estimate the Jaccard similarity."
   ]
  },
  {
   "cell_type": "code",
   "execution_count": null,
   "id": "6ef31a06",
   "metadata": {},
   "outputs": [],
   "source": [
    "movies"
   ]
  },
  {
   "cell_type": "markdown",
   "id": "5357e840",
   "metadata": {},
   "source": [
    "Creating a dictionary of my dataset"
   ]
  },
  {
   "cell_type": "code",
   "execution_count": null,
   "id": "fd833cb0",
   "metadata": {},
   "outputs": [],
   "source": [
    "movie = {}\n",
    "\n",
    "for index, row in movies.iterrows():\n",
    "    key = row['title']\n",
    "    value = row['genres']\n",
    "    movie[key] = value\n",
    "\n",
    "\n",
    "print(movie)\n"
   ]
  },
  {
   "cell_type": "code",
   "execution_count": null,
   "id": "a5b51282",
   "metadata": {},
   "outputs": [],
   "source": [
    "film = str(input(\"Enter the movie's name:\"))\n",
    "\n",
    "my_vocab = movie[film]\n",
    "my_vocab"
   ]
  },
  {
   "cell_type": "code",
   "execution_count": null,
   "id": "be299c4b",
   "metadata": {},
   "outputs": [],
   "source": [
    "for key, value in movie.items():\n",
    "    movie[key]=value.split(\"|\")\n",
    "movie\n"
   ]
  },
  {
   "cell_type": "code",
   "execution_count": null,
   "id": "1ebce90f",
   "metadata": {},
   "outputs": [],
   "source": [
    "vocab = set()\n",
    "for g in movie.values():\n",
    "    vocab.update(g)\n",
    "vocab = tuple(vocab)\n",
    "\n",
    "print(vocab)\n"
   ]
  },
  {
   "cell_type": "code",
   "execution_count": null,
   "id": "2132bca8",
   "metadata": {},
   "outputs": [],
   "source": [
    "df = pd.DataFrame(0, index=vocab, columns=movie.keys())\n",
    "\n",
    "for movie1, genre1 in movie.items():\n",
    "    df.loc[genre1, movie1] = 1\n",
    "\n",
    "# Characteristic matrix\n",
    "print(df)\n"
   ]
  },
  {
   "cell_type": "code",
   "execution_count": null,
   "id": "2bf5b8c3",
   "metadata": {
    "scrolled": true
   },
   "outputs": [],
   "source": [
    "#putting number 0 to 19 instead of the vocab\n",
    "\n",
    "\n",
    "# Create an empty DataFrame\n",
    "df2 = pd.DataFrame(0, index=range(len(vocab)), columns=movie.keys())\n",
    "\n",
    "# Set 1 for movies that have the corresponding genre\n",
    "for movie1, genre1 in movie.items():\n",
    "    genre_indices = [vocab.index(genre) for genre in genre1]\n",
    "    df2.loc[genre_indices, movie1] = 1\n",
    "\n",
    "df2"
   ]
  },
  {
   "cell_type": "code",
   "execution_count": null,
   "id": "273613c5",
   "metadata": {},
   "outputs": [],
   "source": [
    "\n",
    "film = df2[film].values\n",
    "\n",
    "jaccard_similarities = {}\n",
    "for column in df2.columns:\n",
    "    if column != film:\n",
    "        other_film = df2[column].values\n",
    "        intersection = sum((film[i] == 1) and (other_film[i] == 1) for i in range(len(film)))\n",
    "        union = sum((film[i] == 1) or (other_film[i] == 1) for i in range(len(film)))\n",
    "        jaccard_similarities[column] = intersection / union\n",
    "\n",
    "for film, similarity in jaccard_similarities.items():\n",
    "    print(film, similarity)\n"
   ]
  },
  {
   "cell_type": "markdown",
   "id": "75a86bec",
   "metadata": {},
   "source": [
    "**So, here we can see the similar movies to the gven movie.**"
   ]
  },
  {
   "cell_type": "code",
   "execution_count": null,
   "id": "aa4e6129",
   "metadata": {},
   "outputs": [],
   "source": [
    "sorted_dict = {key: value for key, value in sorted(jaccard_similarities.items(), key=lambda item: item[1], reverse=True)}\n",
    "my_tuple = tuple(sorted_dict.items())\n",
    "print(my_tuple)\n"
   ]
  },
  {
   "cell_type": "markdown",
   "id": "b20ef7e1",
   "metadata": {},
   "source": [
    "# Question 3, (2nd solution)"
   ]
  },
  {
   "cell_type": "markdown",
   "id": "2a12b608",
   "metadata": {},
   "source": [
    "At the privious part, I found similar movies using characteristic matrix.\n",
    "Now, I wanna try doing it using signature matrix."
   ]
  },
  {
   "cell_type": "code",
   "execution_count": null,
   "id": "c19e4b5c",
   "metadata": {},
   "outputs": [],
   "source": [
    "def generate_hash_functions(num_perm, num_cols):\n",
    "    hash_funcs = []\n",
    "    for _ in range(num_perm):\n",
    "        hash_func = lambda x, seed=random.randint(1, 2**31-1): hash((x, seed)) % 20\n",
    "        hash_funcs.append(hash_func)\n",
    "    return hash_funcs\n"
   ]
  },
  {
   "cell_type": "code",
   "execution_count": null,
   "id": "0fc4d48f",
   "metadata": {},
   "outputs": [],
   "source": [
    "def generate_signature(matrix, num_perm):\n",
    "    num_rows, num_cols = matrix.shape\n",
    "    hash_funcs = generate_hash_functions(num_perm, num_cols)\n",
    "    signature = np.full((num_perm, num_cols), np.inf)\n",
    "    \n",
    "    for col_idx in range(num_cols):\n",
    "        for row_idx in range(num_rows):\n",
    "            if matrix[row_idx, col_idx] == 1:\n",
    "                for perm_idx in range(num_perm):\n",
    "                    hash_val = hash_funcs[perm_idx](col_idx)\n",
    "                    signature[perm_idx, col_idx] = min(signature[perm_idx, col_idx], hash_val)\n",
    "\n",
    "    return signature\n"
   ]
  },
  {
   "cell_type": "code",
   "execution_count": null,
   "id": "1fa76ea2",
   "metadata": {},
   "outputs": [],
   "source": [
    "import random\n",
    "signature = generate_signature(np.array(df2), 6)\n",
    "signature\n",
    "signature.shape"
   ]
  },
  {
   "cell_type": "code",
   "execution_count": null,
   "id": "b440e8b1",
   "metadata": {},
   "outputs": [],
   "source": [
    "# Here's my signature\n",
    "sig = pd.DataFrame(signature, columns=movies['title'][0:9737], index=[i for i in range(6)])\n",
    "sig"
   ]
  },
  {
   "cell_type": "code",
   "execution_count": null,
   "id": "3b9baefa",
   "metadata": {},
   "outputs": [],
   "source": [
    "def jaccard_similarity(set1, set2):\n",
    "    intersection = len(set1.intersection(set2))\n",
    "    union = len(set1.union(set2))\n",
    "    return intersection / union if union != 0 else 0\n"
   ]
  },
  {
   "cell_type": "code",
   "execution_count": null,
   "id": "a526b115",
   "metadata": {},
   "outputs": [],
   "source": [
    "film = df2[film].values\n",
    "\n",
    "jaccard_similarities = {}\n",
    "for column in df2.columns:\n",
    "    if column != film:\n",
    "        other_film = df2[column].values\n",
    "        intersection = sum((film[i] == 1) and (other_film[i] == 1) for i in range(len(film)))\n",
    "        union = sum((film[i] == 1) or (other_film[i] == 1) for i in range(len(film)))\n",
    "        jaccard_similarities[column] = intersection / union\n",
    "\n",
    "for film, similarity in jaccard_similarities.items():\n",
    "    print(film, similarity)\n"
   ]
  },
  {
   "cell_type": "markdown",
   "id": "59dc3198",
   "metadata": {},
   "source": [
    "**Finished in 2 different ways:)**"
   ]
  },
  {
   "cell_type": "markdown",
   "id": "43353091",
   "metadata": {},
   "source": [
    "# Question 4"
   ]
  },
  {
   "cell_type": "markdown",
   "id": "81a5de04",
   "metadata": {},
   "source": [
    "Find the movies that are closest to five arbitrary movie."
   ]
  },
  {
   "cell_type": "markdown",
   "id": "3ead7ac4",
   "metadata": {},
   "source": [
    "**First of all, we have to choose 5 movies. Then, I'm gonna put their genres in a list and continue like as \"question 1\" to find similar movies.**"
   ]
  },
  {
   "cell_type": "code",
   "execution_count": null,
   "id": "03f9957d",
   "metadata": {},
   "outputs": [],
   "source": [
    "movie"
   ]
  },
  {
   "cell_type": "code",
   "execution_count": null,
   "id": "14435610",
   "metadata": {},
   "outputs": [],
   "source": [
    "my_movies = {'Tom and Huck (1995)': ['Adventure', 'Children'],\n",
    " 'Sudden Death (1995)': ['Action'],\n",
    " 'GoldenEye (1995)': ['Action', 'Adventure', 'Thriller'],\n",
    " 'American President, The (1995)': ['Comedy', 'Drama', 'Romance'],\n",
    " 'Dracula: Dead and Loving It (1995)': ['Comedy', 'Horror']}\n",
    "\n",
    "vocabs = set()\n",
    "for g in my_movies.values():\n",
    "    vocabs.update(g)\n",
    "vocabs = tuple(vocabs)\n",
    "\n",
    "vocabs\n"
   ]
  },
  {
   "cell_type": "code",
   "execution_count": null,
   "id": "e17c5a43",
   "metadata": {},
   "outputs": [],
   "source": [
    "movie2 = movie.copy()"
   ]
  },
  {
   "cell_type": "markdown",
   "id": "0de8ff7e",
   "metadata": {},
   "source": [
    "I'm going to replacing 5 movies in the dictionary 'my_movies' with '5movies' : vocabs."
   ]
  },
  {
   "cell_type": "code",
   "execution_count": null,
   "id": "438ad00f",
   "metadata": {},
   "outputs": [],
   "source": [
    "#adding new one\n",
    "movie2['5movies'] = vocabs\n",
    "#deleting those 5 movies\n",
    "for key in my_movies.keys():\n",
    "        del movie2[key]\n",
    "\n",
    "movie2"
   ]
  },
  {
   "cell_type": "code",
   "execution_count": null,
   "id": "25170d09",
   "metadata": {},
   "outputs": [],
   "source": [
    "film = '5movies'"
   ]
  },
  {
   "cell_type": "markdown",
   "id": "357439d9",
   "metadata": {},
   "source": [
    "Other steps are like question 3. So, we should calculate characteristic matrix and signature for movie2 and at the end, we wil calculate jaccard_similarity between '5movies' and other movies."
   ]
  },
  {
   "cell_type": "code",
   "execution_count": null,
   "id": "a92d9bc9",
   "metadata": {},
   "outputs": [],
   "source": [
    "df3 = pd.DataFrame(0, index=vocab, columns=movie2.keys())\n",
    "\n",
    "for movie1, genre1 in movie2.items():\n",
    "    df3.loc[genre1, movie1] = 1\n",
    "\n",
    "# Characteristic matrix\n",
    "print(df3)\n"
   ]
  },
  {
   "cell_type": "code",
   "execution_count": null,
   "id": "b3bda7f6",
   "metadata": {},
   "outputs": [],
   "source": [
    "#putting number 0 to 19 instead of the vocab\n",
    "df4 = pd.DataFrame(0, index=range(len(vocab)), columns=movie2.keys())\n",
    "\n",
    "\n",
    "for movie1, genre1 in movie2.items():\n",
    "    genre_indices = [vocab.index(genre) for genre in genre1]\n",
    "    df4.loc[genre_indices, movie1] = 1\n",
    "\n",
    "df4"
   ]
  },
  {
   "cell_type": "code",
   "execution_count": null,
   "id": "8c02e5fa",
   "metadata": {},
   "outputs": [],
   "source": [
    "film = df4[film].values\n",
    "\n",
    "jaccard_similarities2 = {}\n",
    "for column in df4.columns:\n",
    "    if column != film:\n",
    "        other_film = df4[column].values\n",
    "        intersection = sum((film[i] == 1) and (other_film[i] == 1) for i in range(len(film)))\n",
    "        union = sum((film[i] == 1) or (other_film[i] == 1) for i in range(len(film)))\n",
    "        jaccard_similarities[column] = intersection / union\n",
    "\n",
    "for film, similarity in jaccard_similarities2.items():\n",
    "    print(film, similarity)\n"
   ]
  },
  {
   "cell_type": "code",
   "execution_count": null,
   "id": "fa7a7b3a",
   "metadata": {},
   "outputs": [],
   "source": [
    "sorted_dict2 = {key: value for key, value in sorted(jaccard_similarities2.items(), key=lambda item: item[1], reverse=True)}\n",
    "my_tuple2 = tuple(sorted_dict2.items())\n",
    "print(my_tuple2)\n"
   ]
  },
  {
   "cell_type": "code",
   "execution_count": null,
   "id": "e1e36d62",
   "metadata": {},
   "outputs": [],
   "source": []
  }
 ],
 "metadata": {
  "kernelspec": {
   "display_name": "Python 3 (ipykernel)",
   "language": "python",
   "name": "python3"
  },
  "language_info": {
   "codemirror_mode": {
    "name": "ipython",
    "version": 3
   },
   "file_extension": ".py",
   "mimetype": "text/x-python",
   "name": "python",
   "nbconvert_exporter": "python",
   "pygments_lexer": "ipython3",
   "version": "3.11.2"
  }
 },
 "nbformat": 4,
 "nbformat_minor": 5
}
